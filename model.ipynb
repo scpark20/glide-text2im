{
 "cells": [
  {
   "cell_type": "code",
   "execution_count": 7,
   "id": "7e448a32",
   "metadata": {},
   "outputs": [],
   "source": [
    "import torch\n",
    "from glide_text2im.unet import UNetModel"
   ]
  },
  {
   "cell_type": "code",
   "execution_count": 8,
   "id": "e8f96a2d",
   "metadata": {},
   "outputs": [],
   "source": [
    "unet = UNetModel(in_channels=3,\n",
    "                 model_channels=64,\n",
    "                 out_channels=3,\n",
    "                 num_res_blocks=2,\n",
    "                 attention_resolutions=())\n",
    "                 "
   ]
  },
  {
   "cell_type": "code",
   "execution_count": 9,
   "id": "ee16f191",
   "metadata": {},
   "outputs": [
    {
     "name": "stdout",
     "output_type": "stream",
     "text": [
      "model size: 215.815MB\n"
     ]
    }
   ],
   "source": [
    "model = unet\n",
    "param_size = 0\n",
    "for param in model.parameters():\n",
    "    param_size += param.nelement() * param.element_size()\n",
    "buffer_size = 0\n",
    "for buffer in model.buffers():\n",
    "    buffer_size += buffer.nelement() * buffer.element_size()\n",
    "\n",
    "size_all_mb = (param_size + buffer_size) / 1024**2\n",
    "print('model size: {:.3f}MB'.format(size_all_mb))"
   ]
  },
  {
   "cell_type": "code",
   "execution_count": 10,
   "id": "a465ee85",
   "metadata": {},
   "outputs": [],
   "source": [
    "from glide_text2im.gaussian_diffusion import get_named_beta_schedule, GaussianDiffusion"
   ]
  },
  {
   "cell_type": "code",
   "execution_count": 11,
   "id": "be31f8f3",
   "metadata": {},
   "outputs": [
    {
     "data": {
      "image/png": "[encoded data removed]",
      "text/plain": [
       "<Figure size 432x288 with 1 Axes>"
      ]
     },
     "metadata": {
      "needs_background": "light"
     },
     "output_type": "display_data"
    }
   ],
   "source": [
    "import matplotlib.pyplot as plt\n",
    "\n",
    "betas = get_named_beta_schedule(\"squaredcos_cap_v2\", 1000)\n",
    "plt.plot(betas)\n",
    "plt.show()"
   ]
  },
  {
   "cell_type": "code",
   "execution_count": 12,
   "id": "ecd9f1c4",
   "metadata": {},
   "outputs": [],
   "source": [
    "diffusion = GaussianDiffusion(betas=betas)"
   ]
  },
  {
   "cell_type": "code",
   "execution_count": 13,
   "id": "23801c70",
   "metadata": {},
   "outputs": [
    {
     "data": {
      "text/plain": [
       "tensor(0.7972, grad_fn=<L1LossBackward0>)"
      ]
     },
     "execution_count": 13,
     "metadata": {},
     "output_type": "execute_result"
    }
   ],
   "source": [
    "import torch\n",
    "x = torch.randn(2, 3, 256, 256)\n",
    "diffusion.forward(unet, x)"
   ]
  },
  {
   "cell_type": "code",
   "execution_count": null,
   "id": "b8a9da32",
   "metadata": {},
   "outputs": [],
   "source": []
  }
 ],
 "metadata": {
  "kernelspec": {
   "display_name": "Python 3 (ipykernel)",
   "language": "python",
   "name": "python3"
  },
  "language_info": {
   "codemirror_mode": {
    "name": "ipython",
    "version": 3
   },
   "file_extension": ".py",
   "mimetype": "text/x-python",
   "name": "python",
   "nbconvert_exporter": "python",
   "pygments_lexer": "ipython3",
   "version": "3.9.12"
  }
 },
 "nbformat": 4,
 "nbformat_minor": 5
}
